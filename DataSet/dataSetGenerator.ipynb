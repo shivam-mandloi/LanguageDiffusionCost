{
 "cells": [
  {
   "cell_type": "code",
   "execution_count": 1,
   "id": "a6b444fa",
   "metadata": {},
   "outputs": [],
   "source": [
    "import torch\n",
    "import math\n",
    "import random\n",
    "\n",
    "def generate_linear_trajectory(seq_len=256, state_dim=3, vel=None, start=None, dt=0.1):\n",
    "    \"\"\"\n",
    "    Generates a simple linear trajectory in `state_dim` dimensions \n",
    "    with optional velocity and start position; adds small noise.\n",
    "    \"\"\"\n",
    "    if start is None:\n",
    "        # random start between -1 and 1\n",
    "        start = torch.rand(state_dim) * 2 - 1\n",
    "    if vel is None:\n",
    "        vel = torch.rand(state_dim) * 2 - 1  # velocity vector\n",
    "    \n",
    "    traj = []\n",
    "    pos = start.clone()\n",
    "    for i in range(seq_len):\n",
    "        traj.append(pos.clone())\n",
    "        pos = pos + vel * dt\n",
    "    traj = torch.stack(traj, dim=0)  # (seq_len, state_dim)\n",
    "    # add small noise\n",
    "    noise = torch.randn_like(traj) * 0.01\n",
    "    traj = traj + noise\n",
    "    return traj\n",
    "\n",
    "# Example batch\n",
    "batch = [ generate_linear_trajectory(seq_len=256, state_dim=3) for _ in range(1000) ]\n",
    "dataset_tensor = torch.stack(batch, dim=0)  # (1000, seq_len, 3)\n"
   ]
  },
  {
   "cell_type": "code",
   "execution_count": 4,
   "id": "78c0f135",
   "metadata": {},
   "outputs": [
    {
     "data": {
      "text/plain": [
       "torch.Size([1000, 256, 3])"
      ]
     },
     "execution_count": 4,
     "metadata": {},
     "output_type": "execute_result"
    }
   ],
   "source": [
    "dataset_tensor.shape"
   ]
  }
 ],
 "metadata": {
  "kernelspec": {
   "display_name": "NLPassig",
   "language": "python",
   "name": "python3"
  },
  "language_info": {
   "codemirror_mode": {
    "name": "ipython",
    "version": 3
   },
   "file_extension": ".py",
   "mimetype": "text/x-python",
   "name": "python",
   "nbconvert_exporter": "python",
   "pygments_lexer": "ipython3",
   "version": "3.11.5"
  }
 },
 "nbformat": 4,
 "nbformat_minor": 5
}
